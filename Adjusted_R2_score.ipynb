{
  "nbformat": 4,
  "nbformat_minor": 0,
  "metadata": {
    "colab": {
      "provenance": []
    },
    "kernelspec": {
      "name": "python3",
      "display_name": "Python 3"
    },
    "language_info": {
      "name": "python"
    }
  },
  "cells": [
    {
      "cell_type": "code",
      "execution_count": 2,
      "metadata": {
        "id": "M1R0EQgc9z-U"
      },
      "outputs": [],
      "source": [
        "from sklearn.metrics import r2_score\n",
        "def Get_Adjusted_R2_Score(y_test,y_pred,columns):\n",
        "  n=len(y_pred)\n",
        "  r2=r2_score(y_test,y_pred)\n",
        "  num=(1-r2)*(n-1)\n",
        "  den=n-columns-1\n",
        "  adjusted_r2_score=1-(num/den)\n",
        "  return adjusted_r2_score\n",
        "\n",
        "\n"
      ]
    }
  ]
}