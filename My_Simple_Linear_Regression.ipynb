{
  "nbformat": 4,
  "nbformat_minor": 0,
  "metadata": {
    "colab": {
      "provenance": []
    },
    "kernelspec": {
      "name": "python3",
      "display_name": "Python 3"
    },
    "language_info": {
      "name": "python"
    }
  },
  "cells": [
    {
      "cell_type": "code",
      "execution_count": 29,
      "metadata": {
        "id": "Xdkqpwlm4ldi"
      },
      "outputs": [],
      "source": [
        "class my_linear_regression:\n",
        "  def _init_(self):\n",
        "    self.m=None\n",
        "    self.b=None\n",
        "  def fit(self,X_train,Y_train):\n",
        "    num=0\n",
        "    den=0\n",
        "    for i in range(X_train.shape[0]):\n",
        "      num=num+(X_train[i]-X_train.mean())*(y_train[i]-y_train.mean())\n",
        "      den = den + ((X_train[i] - X_train.mean())*(X_train[i] - X_train.mean()))\n",
        "    self.m=num/den\n",
        "    self.b=y_train.mean()-(self.m * X_train.mean())\n",
        "    print(self.m)\n",
        "    print(self.b)\n",
        "  def predict(self,X_test):\n",
        "    print(X_test.shape)\n",
        "    return self.m * X_test + self.b"
      ]
    },
    {
      "cell_type": "code",
      "source": [
        "import numpy as np\n",
        "import pandas as pd"
      ],
      "metadata": {
        "id": "vOxrXuX15Gwo"
      },
      "execution_count": 12,
      "outputs": []
    },
    {
      "cell_type": "code",
      "source": [
        "df=pd.read_csv(\"placement.csv\")"
      ],
      "metadata": {
        "id": "2rfBEbSM5UW5"
      },
      "execution_count": 13,
      "outputs": []
    },
    {
      "cell_type": "code",
      "source": [
        "x=df.iloc[:,0].values\n",
        "y=df.iloc[:,1].values"
      ],
      "metadata": {
        "id": "gFQ8ugIo5UdM"
      },
      "execution_count": 14,
      "outputs": []
    },
    {
      "cell_type": "code",
      "source": [
        "from sklearn.model_selection import train_test_split\n",
        "X_train,X_test,y_train,y_test = train_test_split(x,y,test_size=0.2,random_state=2)"
      ],
      "metadata": {
        "id": "egmKqPe45kXj"
      },
      "execution_count": 15,
      "outputs": []
    },
    {
      "cell_type": "code",
      "source": [
        "lr=my_linear_regression()\n",
        "lr.fit(X_train,y_train)"
      ],
      "metadata": {
        "colab": {
          "base_uri": "https://localhost:8080/"
        },
        "id": "hXXAokZR6z62",
        "outputId": "d69d5eb8-33d7-4616-dea9-f230784577ae"
      },
      "execution_count": 30,
      "outputs": [
        {
          "output_type": "stream",
          "name": "stdout",
          "text": [
            "0.5579519734250721\n",
            "-0.8961119222429152\n"
          ]
        }
      ]
    },
    {
      "cell_type": "code",
      "source": [
        "y_pred=lr.predict(X_test[0])"
      ],
      "metadata": {
        "colab": {
          "base_uri": "https://localhost:8080/"
        },
        "id": "Yp2-I1qO7JTy",
        "outputId": "fc76a900-ff18-44f6-abbc-a9488996d5db"
      },
      "execution_count": 32,
      "outputs": [
        {
          "output_type": "stream",
          "name": "stdout",
          "text": [
            "()\n"
          ]
        }
      ]
    },
    {
      "cell_type": "code",
      "source": [
        "print(y_pred)"
      ],
      "metadata": {
        "colab": {
          "base_uri": "https://localhost:8080/"
        },
        "id": "i9ZsoOyd7YRs",
        "outputId": "9f5090f2-ca1d-4ecc-90b8-1ea995cc1198"
      },
      "execution_count": 33,
      "outputs": [
        {
          "output_type": "stream",
          "name": "stdout",
          "text": [
            "3.891116009744203\n"
          ]
        }
      ]
    }
  ]
}